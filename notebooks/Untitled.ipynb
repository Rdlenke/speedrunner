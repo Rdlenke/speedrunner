{
 "cells": [
  {
   "cell_type": "code",
   "execution_count": null,
   "metadata": {},
   "outputs": [],
   "source": [
    "from speedrunner.evolutionary import Evolutionary\n",
    "from speedrunner.reinforcement import Reinforcement \n",
    "from speedrunner.checkinpoint import Checkinpoint\n",
    "\n",
    "import numpy as np\n",
    "\n",
    "import ray\n",
    "import gc"
   ]
  },
  {
   "cell_type": "code",
   "execution_count": null,
   "metadata": {},
   "outputs": [],
   "source": [
    "ray.shutdown()\n",
    "ray.init(redis_address=\"desktopg02:6379\")"
   ]
  },
  {
   "cell_type": "code",
   "execution_count": 3,
   "metadata": {},
   "outputs": [],
   "source": [
    "config = {\n",
    "    'n_generations': 4,\n",
    "    'pop_size': 10,\n",
    "    'n_steps': int(1000),\n",
    "    'n_episodes': 3,\n",
    "    'reintroduction_threshold': 4\n",
    "}"
   ]
  },
  {
   "cell_type": "code",
   "execution_count": null,
   "metadata": {},
   "outputs": [
    {
     "name": "stderr",
     "output_type": "stream",
     "text": [
      " 25%|██▌       | 1/4 [00:33<01:39, 33.32s/it]"
     ]
    }
   ],
   "source": [
    "targets = {'dqn': 2, 'a2c': 3}\n",
    "\n",
    "checkinpoint = Checkinpoint('graph/', config)\n",
    "\n",
    "evolution = Evolutionary(targets, True, config, checkinpoint=checkinpoint)\n",
    "\n",
    "evolution.create_pop('dqn')\n",
    "evolution.create_pop('a2c')\n",
    "\n",
    "evolution.register_evaluation_function(Reinforcement)\n",
    "\n",
    "evolution.run()\n",
    "checkinpoint.plot_best()\n",
    "checkinpoint.plot_best_param_evolution()"
   ]
  }
 ],
 "metadata": {
  "kernelspec": {
   "display_name": "Python 3",
   "language": "python",
   "name": "python3"
  },
  "language_info": {
   "codemirror_mode": {
    "name": "ipython",
    "version": 3
   },
   "file_extension": ".py",
   "mimetype": "text/x-python",
   "name": "python",
   "nbconvert_exporter": "python",
   "pygments_lexer": "ipython3",
   "version": "3.7.3"
  }
 },
 "nbformat": 4,
 "nbformat_minor": 2
}
